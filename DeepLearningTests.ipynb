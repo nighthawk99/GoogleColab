{
  "nbformat": 4,
  "nbformat_minor": 0,
  "metadata": {
    "colab": {
      "name": "DeepLearningTests.ipynb",
      "version": "0.3.2",
      "provenance": [],
      "collapsed_sections": [],
      "include_colab_link": true
    },
    "kernelspec": {
      "name": "python3",
      "display_name": "Python 3"
    }
  },
  "cells": [
    {
      "cell_type": "markdown",
      "metadata": {
        "id": "view-in-github",
        "colab_type": "text"
      },
      "source": [
        "<a href=\"https://colab.research.google.com/github/nighthawk99/GoogleColab/blob/master/DeepLearningTests.ipynb\" target=\"_parent\"><img src=\"https://colab.research.google.com/assets/colab-badge.svg\" alt=\"Open In Colab\"/></a>"
      ]
    },
    {
      "metadata": {
        "id": "hyLhFADWBEo7",
        "colab_type": "code",
        "colab": {}
      },
      "cell_type": "code",
      "source": [
        "\n",
        "\n",
        "import math\n",
        "import random\n",
        "from google.colab import drive\n",
        "import sys\n",
        "sys.path.append('datascience') \n",
        "import auxiliary"
      ],
      "execution_count": 0,
      "outputs": []
    },
    {
      "metadata": {
        "id": "y0ruBg8WXuAX",
        "colab_type": "code",
        "colab": {}
      },
      "cell_type": "code",
      "source": [
        "def step_function(x):\n",
        "    return 1 if x>=0 else 0\n",
        "\n",
        "def perceptron_output(weights, bias,x):\n",
        "    calculation = auxiliary.dotdot(weights, x) + bias\n",
        "    return step_function(calculation)\n",
        "\n",
        "def neuron_output(weights, x):\n",
        "   return sigmoid(auxiliary.dot(weights, x))\n",
        "   \n",
        "\n",
        "def sigmoid(t):\n",
        "    return 1/(1+math.exp(-t))\n",
        "\n",
        "def feed_forward(neural_network, input_vector):\n",
        "    outputs=[]\n",
        "    \n",
        "    for layer in neural_network:\n",
        "        input_with_bias = input_vector + [1]\n",
        "        output = [neuron_output(neuron, input_with_bias) for neuron in layer]\n",
        "        outputs.append(output)\n",
        "        input_vector = output\n",
        "    \n",
        "    return outputs\n",
        "\n",
        "\n",
        "def backpropagate(network, input_vector, targets):\n",
        "    hidden_outputs, outputs = feed_forward(network,input_vector)\n",
        "    output_deltas = [output * (1-output)*(output-target) for output, target in zip(outputs, targets)]\n",
        "    \n",
        "    for i, output_neuron in enumerate(network[-1]):\n",
        "        for j, hidden_output in enumerate(hidden_outputs + [1]):\n",
        "            output_neuron[j] -= output_deltas[i]*hidden_output\n",
        "            hidden_deltas = [hidden_output * (1-hidden_output) * auxiliary.dot(output_deltas,\n",
        "                             [n[i] for n in output_layer]) for i, hidden_output in enumerate(hidden_outputs)]\n",
        "    \n",
        "    for i, hidden_neuron in enumerate(network[0]):\n",
        "        for j, input in enumerate(input_vector +[1]):\n",
        "            hidden_neuron[j] -= hidden_deltas[i]*input"
      ],
      "execution_count": 0,
      "outputs": []
    },
    {
      "metadata": {
        "id": "sX3P3JbGX-qL",
        "colab_type": "code",
        "colab": {}
      },
      "cell_type": "code",
      "source": [
        "init_digit  = [0,0,0,0,0,\n",
        "               0,0,0,0,0,\n",
        "               1,0,0,0,0,\n",
        "               0,0,0,0,0,\n",
        "               0,0,0,0,0]\n",
        "\n",
        "zero_digit  = [1,1,1,1,1,\n",
        "               1,0,0,0,1,\n",
        "               1,0,0,0,1,\n",
        "               1,0,0,0,1,\n",
        "               1,1,1,1,1]\n",
        "\n",
        "one_digit  =  [0,0,1,0,0,\n",
        "               0,1,1,0,0,\n",
        "               1,0,1,0,0,\n",
        "               0,0,1,0,0,\n",
        "               0,0,1,0,0]\n",
        "\n",
        "two_digit  = [0,1,1,1,0,\n",
        "               1,0,0,0,1,\n",
        "               0,0,0,1,0,\n",
        "               0,0,1,0,0,\n",
        "               0,1,1,1,1]\n",
        "\n",
        "three_digit  = [1,1,1,1,1,\n",
        "               0,0,0,0,1,\n",
        "               1,1,1,1,1,\n",
        "               0,0,0,0,1,\n",
        "               1,1,1,1,1]\n",
        "\n",
        "four_digit  = [1,0,1,0,0,\n",
        "               1,0,1,0,0,\n",
        "               1,1,1,1,1,\n",
        "               0,0,1,0,0,\n",
        "               0,0,1,0,0]\n",
        "\n",
        "five_digit  = [1,1,1,1,1,\n",
        "               1,0,0,0,0,\n",
        "               1,1,1,1,1,\n",
        "               0,0,0,0,1,\n",
        "               1,1,1,1,1]\n",
        "\n",
        "six_digit  =  [1,1,0,0,0,\n",
        "               1,0,0,0,0,\n",
        "               1,1,1,1,1,\n",
        "               1,0,0,0,1,\n",
        "               1,1,1,1,1]\n",
        "\n",
        "seven_digit  = [1,1,1,1,1,\n",
        "               0,0,0,1,0,\n",
        "               0,1,1,1,0,\n",
        "               0,1,0,0,0,\n",
        "               1,0,0,0,0]\n",
        "\n",
        "eight_digit  = [1,1,1,1,1,\n",
        "               1,0,0,0,1,\n",
        "               1,1,1,1,1,\n",
        "               1,0,0,0,1,\n",
        "               1,1,1,1,1]\n",
        "\n",
        "nine_digit  = [1,1,1,1,1,\n",
        "               1,0,0,0,1,\n",
        "               1,1,1,1,1,\n",
        "               0,0,0,0,1,\n",
        "               0,0,0,0,1]\n",
        "\n",
        "feature_set = [zero_digit,one_digit,two_digit,three_digit,four_digit,five_digit,six_digit,seven_digit,eight_digit,nine_digit]\n",
        "\n",
        "targets = [[1 if i==j else 0 for i in range(10)] for j in range(10)]\n",
        "\n",
        "random.seed(0)\n",
        "input_size = 25\n",
        "num_hidden = 5\n",
        "output_size = 10\n",
        "\n",
        "hidden_layer = [[random.random() for _ in range(input_size+1)] for _ in range(num_hidden)]\n",
        "output_layer = [[random.random() for _ in range(num_hidden+1)] for _ in range(output_size)]\n",
        "\n",
        "network = [hidden_layer, output_layer]\n",
        "\n",
        "def predict(input_v):\n",
        "    return feed_forward(network, input_v)[-1]\n",
        "\n",
        "\n",
        "        \n",
        "\n"
      ],
      "execution_count": 0,
      "outputs": []
    },
    {
      "metadata": {
        "id": "Ca1nI0wwYWNe",
        "colab_type": "code",
        "colab": {}
      },
      "cell_type": "code",
      "source": [
        "for _ in range(10000):\n",
        "    for input_vector, target_vector in zip(feature_set, targets):\n",
        "        backpropagate(network, input_vector,target_vector)"
      ],
      "execution_count": 0,
      "outputs": []
    },
    {
      "metadata": {
        "id": "xIg7ZRdMZPrK",
        "colab_type": "code",
        "colab": {}
      },
      "cell_type": "code",
      "source": [
        "nine_digit_test  = [0,1,1,1,0,\n",
        "               1,0,0,0,1,\n",
        "               0,1,1,1,1,\n",
        "               0,0,0,0,1,\n",
        "               0,0,0,0,1]\n",
        "\n",
        "six_digit_test  =  [1,1,0,0,0,\n",
        "               1,0,0,0,0,\n",
        "               1,1,1,1,1,\n",
        "               1,0,0,0,1,\n",
        "               1,1,1,1,1]\n"
      ],
      "execution_count": 0,
      "outputs": []
    },
    {
      "metadata": {
        "id": "UpUyQmerZdEz",
        "colab_type": "code",
        "colab": {
          "base_uri": "https://localhost:8080/",
          "height": 187
        },
        "outputId": "29a13f84-411c-452b-d108-11f4003c1e6b"
      },
      "cell_type": "code",
      "source": [
        "predict(six_digit_test)"
      ],
      "execution_count": 21,
      "outputs": [
        {
          "output_type": "execute_result",
          "data": {
            "text/plain": [
              "[0.006978084580810177,\n",
              " 1.6951418178799026e-13,\n",
              " 5.2540675533774856e-17,\n",
              " 0.1854648504892699,\n",
              " 0.06012987149654607,\n",
              " 0.13130689242155621,\n",
              " 0.8844640622392714,\n",
              " 1.272467657139593e-15,\n",
              " 0.37569810263882636,\n",
              " 0.004823265016663391]"
            ]
          },
          "metadata": {
            "tags": []
          },
          "execution_count": 21
        }
      ]
    }
  ]
}