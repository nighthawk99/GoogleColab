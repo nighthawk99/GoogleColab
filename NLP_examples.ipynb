{
  "nbformat": 4,
  "nbformat_minor": 0,
  "metadata": {
    "colab": {
      "name": "Untitled1.ipynb",
      "version": "0.3.2",
      "provenance": [],
      "include_colab_link": true
    },
    "kernelspec": {
      "name": "python2",
      "display_name": "Python 2"
    }
  },
  "cells": [
    {
      "cell_type": "markdown",
      "metadata": {
        "id": "view-in-github",
        "colab_type": "text"
      },
      "source": [
        "<a href=\"https://colab.research.google.com/github/nighthawk99/GoogleColab/blob/master/NLP_examples.ipynb\" target=\"_parent\"><img src=\"https://colab.research.google.com/assets/colab-badge.svg\" alt=\"Open In Colab\"/></a>"
      ]
    },
    {
      "metadata": {
        "id": "a6unpXlsdYsP",
        "colab_type": "code",
        "colab": {}
      },
      "cell_type": "code",
      "source": [
        "from __future__ import division\n",
        "import math, random, re\n",
        "from collections import defaultdict, Counter\n",
        "from bs4 import BeautifulSoup\n",
        "import requests"
      ],
      "execution_count": 0,
      "outputs": []
    },
    {
      "metadata": {
        "id": "UoHqwmvVdh8p",
        "colab_type": "code",
        "colab": {
          "base_uri": "https://localhost:8080/",
          "height": 870
        },
        "outputId": "e6ea5952-9e15-42da-b000-a83ce2abb588"
      },
      "cell_type": "code",
      "source": [
        "def fix_unicode(text):\n",
        "    return text.replace(u\"\\u2019\", \"'\")\n",
        "\n",
        "\n",
        "url = \"http://radar.oreilly.com/2010/06/what-is-data-science.html\"\n",
        "html = requests.get(url).text\n",
        "soup = BeautifulSoup(html, 'html.parser')\n",
        "\n",
        "content = soup.find(\"div\", \"article-body\")        # find article-body div\n",
        "regex = r\"[\\w']+|[\\.]\"                            # matches a word or a period\n",
        "\n",
        "document = []\n",
        "\n",
        "for paragraph in content(\"p\"):\n",
        "  words = re.findall(regex, fix_unicode(paragraph.text))\n",
        "  document.extend(words)\n",
        "\n",
        "content(\"p\")\n"
      ],
      "execution_count": 32,
      "outputs": [
        {
          "output_type": "execute_result",
          "data": {
            "text/plain": [
              "[<p>We\\u2019ve all heard it: according to Hal Varian, <a href=\"http://www.nytimes.com/2009/08/06/technology/06stats.html\">statistics is the next sexy job</a>. Five years ago, in <a href=\"http://oreilly.com/web2/archive/what-is-web-20.html\">What is Web 2.0</a>,\\r\\n    Tim O\\u2019Reilly said that \\u201cdata is the next Intel Inside.\\u201d But what does that statement mean? Why do we suddenly care about statistics and about data?</p>,\n",
              " <p>In this post, I examine the many sides of data science \\u2014 the technologies, the companies and the unique skill sets.</p>,\n",
              " <p>The web is full of \\u201cdata-driven apps.\\u201d Almost any e-commerce application is a data-driven application. There\\u2019s a database behind a web front end, and middleware that talks to a number of other databases and data services (credit card\\r\\n    processing companies, banks, and so on). But merely using data isn\\u2019t really what we mean by \\u201cdata science.\\u201d A data application acquires its value from the data itself, and creates more data as a result. It\\u2019s not just an\\r\\n    application with data; it\\u2019s a data product. Data science enables the creation of data products.</p>,\n",
              " <p>One of the earlier data products on the Web was the <a href=\"http://en.wikipedia.org/wiki/CDDB\">CDDB database</a>. The developers of CDDB realized that any CD had a unique signature, based on the exact length (in samples) of each track on the CD. Gracenote\\r\\n    built a database of track lengths, and coupled it to a database of album metadata (track titles, artists, album titles). If you\\u2019ve ever used iTunes to rip a CD, you\\u2019ve taken advantage of this database. Before it does anything else, iTunes\\r\\n    reads the length of every track, sends it to CDDB, and gets back the track titles. If you have a CD that\\u2019s not in the database (including a CD you\\u2019ve made yourself), you can create an entry for an unknown album. While this sounds simple\\r\\n    enough, it\\u2019s revolutionary: CDDB views music as data, not as audio, and creates new value in doing so. Their business is fundamentally different from selling music, sharing music, or analyzing musical tastes (though these can also be \\u201cdata\\r\\n    products\\u201d). CDDB arises entirely from viewing a musical problem as a data problem.</p>,\n",
              " <p>Google is a master at creating data products. Here\\u2019s a few examples:</p>,\n",
              " <p>Google isn\\u2019t the only company that knows how to use data. <a href=\"http://www.facebook.com\">Facebook</a> and <a href=\"http://www.linkedin.com\">LinkedIn</a> use patterns of friendship relationships to suggest other people you may know, or should\\r\\n    know, with sometimes frightening accuracy. <a href=\"http://www.amazon.com\">Amazon</a> saves your searches, correlates what you search for with what other users search for, and uses it to create surprisingly appropriate recommendations. These recommendations\\r\\n    are \\u201cdata products\\u201d that help to drive Amazon\\u2019s more traditional retail business. They come about because Amazon understands that a book isn\\u2019t just a book, a camera isn\\u2019t just a camera, and a customer isn\\u2019t\\r\\n    just a customer; customers generate a trail of \\u201cdata exhaust\\u201d that can be mined and put to use, and a camera is a cloud of data that can be correlated with the customers\\u2019 behavior, the data they leave every time they visit the\\r\\n    site.</p>,\n",
              " <p>The thread that ties most of these applications together is that data collected from users provides added value. Whether that data is search terms, voice samples, or product reviews, the users are in a feedback loop in which they contribute to the products\\r\\n    they use. That\\u2019s the beginning of data science.</p>,\n",
              " <p>In the last few years, there has been an explosion in the amount of data that\\u2019s available. Whether we\\u2019re talking about web server logs, tweet streams, online transaction records, \\u201ccitizen science,\\u201d data from sensors, government\\r\\n    data, or some other source, the problem isn\\u2019t finding data, it\\u2019s figuring out what to do with it. And it\\u2019s not just companies using their own data, or the data contributed by their users. It\\u2019s increasingly common to mashup\\r\\n    data from a number of sources. \\u201c<a href=\"http://oreilly.com/catalog/9780596804787\">Data Mashups in R</a>\\u201d analyzes mortgage foreclosures in Philadelphia County by taking a public report from the county sheriff\\u2019s office, extracting\\r\\n    addresses and using Yahoo to convert the addresses to latitude and longitude, then using the geographical data to place the foreclosures on a map (another data source), and group them by neighborhood, valuation, neighborhood per-capita income, and\\r\\n    other socio-economic factors.</p>,\n",
              " <p>The question facing every company today, every startup, every non-profit, every project site that wants to attract a community, is how to use data effectively \\u2014 not just their own data, but all the data that\\u2019s available and relevant. Using\\r\\n    data effectively requires something different from traditional statistics, where actuaries in business suits perform arcane but fairly well-defined kinds of analysis. What differentiates data science from statistics is that data science is a holistic\\r\\n    approach. We\\u2019re increasingly finding data in the wild, and data scientists are involved with gathering data, massaging it into a tractable form, making it tell its story, and presenting that story to others.</p>,\n",
              " <p>To get a sense for what skills are required, let\\u2019s look at the data lifecycle: where it comes from, how you use it, and where it goes.</p>,\n",
              " <p>Data is everywhere: your government, your web server, your business partners, <a href=\"http://www.nytimes.com/2010/05/02/magazine/02self-measurement-t.html?ref=magazine\">even your body</a>. While we aren\\u2019t drowning in a sea of data, we\\u2019re\\r\\n    finding that almost everything can (or has) been instrumented. At O\\u2019Reilly, we frequently combine publishing industry data from <a href=\"http://en.wikipedia.org/wiki/Nielsen_BookScan\">Nielsen BookScan</a> with our own sales data, publicly available\\r\\n    Amazon data, and even job data to see what\\u2019s happening in the publishing industry. Sites like <a href=\"http://infochimps.org/\">Infochimps</a> and <a href=\"http://www.factual.com/\">Factual</a> provide access to many large datasets, including\\r\\n    climate data, MySpace activity streams, and game logs from sporting events. Factual enlists users to update and improve its datasets, which cover topics as diverse as endocrinologists to hiking trails.</p>,\n",
              " <p>Much of the data we currently work with is the direct consequence of Web 2.0, and of Moore\\u2019s Law applied to data. The web has people spending more time online, and leaving a trail of data wherever they go. Mobile applications leave an even richer\\r\\n    data trail, since many of them are annotated with geolocation, or involve video or audio, all of which can be mined. Point-of-sale devices and frequent-shopper\\u2019s cards make it possible to capture all of your retail transactions, not just the\\r\\n    ones you make online. All of this data would be useless if we couldn\\u2019t store it, and that\\u2019s where Moore\\u2019s Law comes in. Since the early \\u201980s, processor speed has increased from <a href=\"http://en.wikipedia.org/wiki/Motorola_68000\">10 MHz</a>    to 3.6 GHz \\u2014 an increase of 360 (not counting increases in word length and number of cores). But we\\u2019ve seen much bigger increases in storage capacity, on every level. RAM has moved from $1,000/MB to roughly $25/GB \\u2014 a price reduction\\r\\n    of about 40000, to say nothing of the reduction in size and increase in speed. Hitachi made the <a href=\"http://news.cnet.com/2300-1010_3-6031405-6.html\">first gigabyte disk drives</a> in 1982, weighing in at roughly 250 pounds; now terabyte drives\\r\\n    are consumer equipment, and a 32 GB microSD card weighs about half a gram. Whether you look at bits per gram, bits per dollar, or raw capacity, storage has more than kept pace with the increase of CPU speed.</p>,\n",
              " <p>The importance of Moore\\u2019s law as applied to data isn\\u2019t just geek pyrotechnics. Data expands to fill the space you have to store it. The more storage is available, the more data you will find to put into it. The data exhaust you leave behind\\r\\n    whenever you surf the web, friend someone on Facebook, or make a purchase in your local supermarket, is all carefully collected and analyzed. Increased storage capacity demands increased sophistication in the analysis and use of that data. That\\u2019s\\r\\n    the foundation of data science.</p>,\n",
              " <p>So, how do we make that data useful? The first step of any data analysis project is \\u201cdata conditioning,\\u201d or getting data into a state where it\\u2019s usable. We are seeing more data in formats that are easier to consume: Atom data feeds,\\r\\n    web services, microformats, and other newer technologies provide data in formats that\\u2019s directly machine-consumable. But old-style <a href=\"http://en.wikipedia.org/wiki/Data_scraping#Screen_scraping\">screen scraping</a> hasn\\u2019t died,\\r\\n    and isn\\u2019t going to die. Many sources of \\u201cwild data\\u201d are extremely messy. They aren\\u2019t well-behaved XML files with all the metadata nicely in place. The foreclosure data used in \\u201c<a href=\"http://oreilly.com/catalog/9780596804787 id=hni2\">Data Mashups in R</a>\\u201d\\r\\n    was posted on a public website by the Philadelphia county sheriff\\u2019s office. This data was presented as an HTML file that was probably generated automatically from a spreadsheet. If you\\u2019ve ever seen the HTML that\\u2019s generated by\\r\\n    Excel, you know that\\u2019s going to be fun to process.</p>,\n",
              " <p>Data conditioning can involve cleaning up messy HTML with tools like <a href=\"http://www.crummy.com/software/BeautifulSoup/\">Beautiful Soup</a>, natural language processing to parse plain text in English and other languages, or even getting humans to\\r\\n    do the dirty work. You\\u2019re likely to be dealing with an array of data sources, all in different forms. It would be nice if there was a standard set of tools to do the job, but there isn\\u2019t. To do data conditioning, you have to be ready\\r\\n    for whatever comes, and be willing to use anything from ancient Unix utilities such as <a href=\"http://oreilly.com/catalog/9780596000707\">awk</a> to XML parsers and machine learning libraries. Scripting languages, such as <a href=\"http://oreilly.com/perl/\">Perl</a>    and <a href=\"http://oreilly.com/python/\">Python</a>, are essential.</p>,\n",
              " <p>Once you\\u2019ve parsed the data, you can start thinking about the quality of your data. Data is frequently missing or incongruous. If data is missing, do you simply ignore the missing points? That isn\\u2019t always possible. If data is incongruous,\\r\\n    do you decide that something is wrong with badly behaved data (after all, equipment fails), or that the incongruous data is telling its own story, which may be more interesting? It\\u2019s reported that the discovery of ozone layer depletion was\\r\\n    delayed because <a href=\"http://www.nas.nasa.gov/About/Education/Ozone/history.html\">automated data collection tools discarded readings that were too low</a> <sup><a href=\"#footnote-1\">1</a></sup>. In data science, what you have is frequently all\\r\\n    you\\u2019re going to get. It\\u2019s usually impossible to get \\u201cbetter\\u201d data, and you have no alternative but to work with the data at hand.</p>,\n",
              " <p>If the problem involves human language, understanding the data adds another dimension to the problem. Roger Magoulas, who runs the data analysis group at O\\u2019Reilly, was recently searching a database for Apple job listings requiring geolocation skills.\\r\\n    While that sounds like a simple task, the trick was disambiguating \\u201cApple\\u201d from many job postings in the growing Apple industry. To do it well you need to understand the grammatical structure of a job posting; you need to be able to\\r\\n    parse the English. And that problem is showing up more and more frequently. Try using <a href=\"http://google.com/trends\">Google Trends</a> to figure out what\\u2019s happening with the <a href=\"http://google.com/trends?q=Cassandra\">Cassandra</a>    database or the <a href=\"http://google.com/trends?q=Python\">Python</a> language, and you\\u2019ll get a sense of the problem. Google has indexed many, many websites about large snakes. Disambiguation is never an easy task, but tools like the <a href=\"http://www.nltk.org/\">Natural Language Toolkit</a>    library can make it simpler.</p>,\n",
              " <p>When natural language processing fails, you can replace artificial intelligence with human intelligence. That\\u2019s where services like Amazon\\u2019s <a href=\"https://www.mturk.com/mturk/welcome id=k3la\">Mechanical Turk</a> come in. If you can split\\r\\n    your task up into a large number of subtasks that are easily described, you can use Mechanical Turk\\u2019s marketplace for cheap labor. For example, if you\\u2019re looking at job listings, and want to know which originated with Apple, you can\\r\\n    have real people do the classification for roughly $0.01 each. If you have already reduced the set to 10,000 postings with the word \\u201cApple,\\u201d paying humans $0.01 to classify them only costs $100.</p>,\n",
              " <p>We\\u2019ve all heard a lot about \\u201cbig data,\\u201d but \\u201cbig\\u201d is really a red herring. Oil companies, telecommunications companies, and other data-centric industries have had huge datasets for a long time. And as storage capacity\\r\\n    continues to expand, today\\u2019s \\u201cbig\\u201d is certainly tomorrow\\u2019s \\u201cmedium\\u201d and next week\\u2019s \\u201csmall.\\u201d The most meaningful definition I\\u2019ve heard: <em>\\u201cbig data\\u201d is when the size of the data itself becomes part of the problem</em>.\\r\\n    We\\u2019re discussing data problems ranging from gigabytes to petabytes of data. At some point, traditional techniques for working with data run out of steam.</p>,\n",
              " <p>What are we trying to do with data that\\u2019s different? According to Jeff Hammerbacher <sup><a href=\"#footnote-2\">2</a></sup> (<a href=\"http://twitter.com/hackingdata\">@hackingdata</a>), we\\u2019re trying to build information platforms or dataspaces.\\r\\n    Information platforms are similar to traditional data warehouses, but different. They expose rich APIs, and are designed for exploring and understanding the data rather than for traditional analysis and reporting. They accept all data formats, including\\r\\n    the most messy, and their schemas evolve as the understanding of the data changes.</p>,\n",
              " <p>Most of the organizations that have built data platforms have found it necessary to go beyond the relational database model. Traditional relational database systems stop being effective at this scale. Managing sharding and replication across a horde of\\r\\n    database servers is difficult and slow. The need to define a schema in advance conflicts with reality of multiple, unstructured data sources, in which you may not know what\\u2019s important until after you\\u2019ve analyzed the data. Relational\\r\\n    databases are designed for consistency, to support complex transactions that can easily be rolled back if any one of a complex set of operations fails. While rock-solid consistency is crucial to many applications, it\\u2019s not really necessary\\r\\n    for the kind of analysis we\\u2019re discussing here. Do you really care if you have 1,010 or 1,012 Twitter followers? Precision has an allure, but in most data-driven applications outside of finance, that allure is deceptive. Most data analysis\\r\\n    is comparative: if you\\u2019re asking whether sales to Northern Europe are increasing faster than sales to Southern Europe, you aren\\u2019t concerned about the difference between 5.92 percent annual growth and 5.93 percent.</p>,\n",
              " <p>To store huge datasets effectively, we\\u2019ve seen a new breed of databases appear. These are frequently called NoSQL databases, or Non-Relational databases, though neither term is very useful. They group together fundamentally dissimilar products\\r\\n    by telling you what they aren\\u2019t. Many of these databases are the logical descendants of Google\\u2019s <a href=\"http://labs.google.com/papers/bigtable.html\">BigTable</a> and Amazon\\u2019s <a href=\"http://www.allthingsdistributed.com/2007/10/amazons_dynamo.html\">Dynamo</a>,\\r\\n    and are designed to be distributed across many nodes, to provide \\u201ceventual consistency\\u201d but not absolute consistency, and to have very flexible schema. While there are two dozen or so products available (almost all of them open source),\\r\\n    a few leaders have established themselves:</p>,\n",
              " <p>Storing data is only part of building a data platform, though. Data is only useful if you can do something with it, and enormous datasets present computational problems. Google popularized the <a href=\"http://labs.google.com/papers/mapreduce.html\">MapReduce</a>    approach, which is basically a divide-and-conquer strategy for distributing an extremely large problem across an extremely large computing cluster. In the \\u201cmap\\u201d stage, a programming task is divided into a number of identical subtasks,\\r\\n    which are then distributed across many processors; the intermediate results are then combined by a single reduce task. In hindsight, MapReduce seems like an obvious solution to Google\\u2019s biggest problem, creating large searches. It\\u2019s\\r\\n    easy to distribute a search across thousands of processors, and then combine the results into a single set of answers. What\\u2019s less obvious is that MapReduce has proven to be widely applicable to many large data problems, ranging from search\\r\\n    to machine learning.</p>,\n",
              " <p>The most popular open source implementation of MapReduce is the <a href=\"http://hadoop.apache.org/\">Hadoop project</a>. Yahoo\\u2019s claim that they had built the <a href=\"http://developer.yahoo.net/blogs/hadoop/2008/02/yahoo-worlds-largest-production-hadoop.html\">world\\u2019s largest production Hadoop application</a>,\\r\\n    with 10,000 cores running Linux, brought it onto center stage. Many of the key Hadoop developers have found a home at <a href=\"http://www.cloudera.com/\">Cloudera</a>, which provides commercial support. Amazon\\u2019s <a href=\"http://aws.amazon.com/elasticmapreduce/\">Elastic MapReduce</a>    makes it much easier to put Hadoop to work without investing in racks of Linux machines, by providing preconfigured Hadoop images for its EC2 clusters. You can allocate and de-allocate processors as needed, paying only for the time you use them.</p>,\n",
              " <p><a href=\"http://oreilly.com/catalog/9780596521981\">Hadoop</a> goes far beyond a simple MapReduce implementation (of which there are several); it\\u2019s the key component of a data platform. It incorporates <a href=\"http://hadoop.apache.org/hdfs/\">HDFS</a>,\\r\\n    a distributed filesystem designed for the performance and reliability requirements of huge datasets; the HBase database; <a href=\"http://hadoop.apache.org/hive/\">Hive</a>, which lets developers explore Hadoop datasets using SQL-like queries; a high-level\\r\\n    dataflow language called <a href=\"http://hadoop.apache.org/pig/\">Pig</a>; and other components. If anything can be called a one-stop information platform, Hadoop is it.</p>,\n",
              " <p>Hadoop has been instrumental in enabling \\u201cagile\\u201d data analysis. In software development, \\u201cagile practices\\u201d are associated with faster product cycles, closer interaction between developers and consumers, and testing. Traditional\\r\\n    data analysis has been hampered by extremely long turn-around times. If you start a calculation, it might not finish for hours, or even days. But Hadoop (and particularly Elastic MapReduce) make it easy to build clusters that can perform computations\\r\\n    on long datasets quickly. Faster computations make it easier to test different assumptions, different datasets, and different algorithms. It\\u2019s easer to consult with clients to figure out whether you\\u2019re asking the right questions, and\\r\\n    it\\u2019s possible to pursue intriguing possibilities that you\\u2019d otherwise have to drop for lack of time.</p>,\n",
              " <p>Hadoop is essentially a batch system, but <a href=\"http://code.google.com/p/hop/\">Hadoop Online Prototype (HOP)</a> is an experimental project that enables stream processing. Hadoop processes data as it arrives, and delivers intermediate results in (near)\\r\\n    real-time. Near real-time data analysis enables features like <a href=\"http://search.twitter.com/\">trending topics</a> on sites like <a href=\"http://twitter.com\">Twitter</a>. These features only require soft real-time; reports on trending topics don\\u2019t\\r\\n    require millisecond accuracy. As with the number of followers on Twitter, a \\u201ctrending topics\\u201d report only needs to be current to within five minutes \\u2014 or even an hour. According to Hilary Mason (<a href=\"http://twitter.com/hmason\">@hmason</a>),\\r\\n    data scientist at <a href=\"http://bit.ly/\">bit.ly</a>, it\\u2019s possible to precompute much of the calculation, then use one of the experiments in real-time MapReduce to get presentable results.</p>,\n",
              " <p>Machine learning is another essential tool for the data scientist. We now expect web and mobile applications to incorporate recommendation engines, and building a recommendation engine is a quintessential artificial intelligence problem. You don\\u2019t\\r\\n    have to look at many modern web applications to see classification, error detection, image matching (behind <a href=\"http://www.google.com/mobile/goggles/\">Google Goggles</a> and <a href=\"http://www.snaptell.com/\">SnapTell</a>) and even face detection\\r\\n    \\u2014 an ill-advised mobile application lets you take someone\\u2019s picture with a cell phone, and look up that person\\u2019s identity using photos available online. <a href=\"http://www.stanford.edu/class/cs229/\">Andrew Ng\\u2019s Machine Learning course</a>    is one of the most popular courses in computer science at Stanford, with hundreds of students (<a href=\"http://www.youtube.com/watch?v=UzxYlbK2c7E id=j0ha\">this video is highly recommended</a>).</p>,\n",
              " <p>There are many libraries available for machine learning: <a href=\"http://pybrain.org/\">PyBrain</a> in Python, <a href=\"http://elefant.developer.nicta.com.au/\">Elefant</a>, <a href=\"http://www.cs.waikato.ac.nz/ml/weka/\">Weka</a> in Java, and <a href=\"http://lucene.apache.org/mahout/\">Mahout</a>    (coupled to Hadoop). Google has just announced their <a href=\"http://code.google.com/apis/predict/\">Prediction API</a>, which exposes their machine learning algorithms for public use via a RESTful interface. For computer vision, the <a href=\"http://opencv.willowgarage.com/wiki/\">OpenCV</a>    library is a de-facto standard.</p>,\n",
              " <p><a href=\"https://www.mturk.com/mturk/welcome id=k3la\">Mechanical Turk</a> is also an important part of the toolbox. Machine learning almost always requires a \\u201ctraining set,\\u201d or a significant body of known data with which to develop and tune\\r\\n    the application. The Turk is an excellent way to develop training sets. Once you\\u2019ve collected your training data (perhaps a large collection of public photos from Twitter), you can have humans classify them inexpensively \\u2014 possibly sorting\\r\\n    them into categories, possibly drawing circles around faces, cars, or whatever interests you. It\\u2019s an excellent way to classify a few thousand data points at a cost of a few cents each. Even a relatively large job only costs a few hundred dollars.</p>,\n",
              " <p>While I haven\\u2019t stressed traditional statistics, building statistical models plays an important role in any data analysis. According to <a href=\"http://www.dataspora.com/\">Mike Driscoll</a> (<a href=\"http://twitter.com/dataspora\">@dataspora</a>),\\r\\n    statistics is the \\u201cgrammar of data science.\\u201d It is crucial to \\u201cmaking data speak coherently.\\u201d We\\u2019ve all heard the joke that eating pickles causes death, because everyone who dies has eaten pickles. That joke doesn\\u2019t\\r\\n    work if you understand what correlation means. More to the point, it\\u2019s easy to notice that one advertisement for <em><a href=\"http://oreilly.com/catalog/9780596801717/\">R in a Nutshell</a></em> generated 2 percent more conversions than another.\\r\\n    But it takes statistics to know whether this difference is significant, or just a random fluctuation. Data science isn\\u2019t just about the existence of data, or making guesses about what that data might mean; it\\u2019s about testing hypotheses\\r\\n    and making sure that the conclusions you\\u2019re drawing from the data are valid. Statistics plays a role in everything from traditional business intelligence (BI) to understanding how Google\\u2019s ad auctions work. Statistics has become a basic\\r\\n    skill. It isn\\u2019t superseded by newer techniques from machine learning and other disciplines; it complements them.</p>,\n",
              " <p>While there are many commercial statistical packages, the open source <a href=\"http://www.r-project.org/\">R language</a> \\u2014 and its comprehensive package library, <a href=\"http://cran.r-project.org/\">CRAN</a> \\u2014 is an essential tool. Although\\r\\n    R is an odd and quirky language, particularly to someone with a background in computer science, it comes close to providing \\u201cone stop shopping\\u201d for most statistical work. It has excellent graphics facilities; CRAN includes parsers for\\r\\n    many kinds of data; and newer extensions extend R into distributed computing. If there\\u2019s a single tool that provides an end-to-end solution for statistics work, R is it.</p>,\n",
              " <p>A picture may or may not be worth a thousand words, but a picture is certainly worth a thousand numbers. The problem with most data analysis algorithms is that they generate a set of numbers. To understand what the numbers mean, the stories they are really\\r\\n    telling, you need to generate a graph. Edward Tufte\\u2019s <a href=\"http://www.amazon.com/Visual-Display-Quantitative-Information-2nd/dp/0961392142/\">Visual Display of Quantitative Information</a> is the classic for data visualization, and a foundational\\r\\n    text for anyone practicing data science. But that\\u2019s not really what concerns us here. Visualization is crucial to each stage of the data scientist. According to Martin Wattenberg (<a href=\"http://twitter.com/wattenberg\">@wattenberg</a>, founder\\r\\n    of <a>Flowing Media)</a>, visualization is key to data conditioning: if you want to find out just how bad your data is, try plotting it. Visualization is also frequently the first step in analysis. Hilary Mason says that when she gets a new data set,\\r\\n    she starts by making a dozen or more scatter plots, trying to get a sense of what might be interesting. Once you\\u2019ve gotten some hints at what the data might be saying, you can follow it up with more detailed analysis.</p>,\n",
              " <p>There are many packages for plotting and presenting data. <a href=\"http://www.gnuplot.info/\">GnuPlot</a> is very effective; R incorporates a fairly comprehensive graphics package; Casey Reas\\u2019 and Ben Fry\\u2019s <a href=\"http://processing.org/\">Processing</a>    is the state of the art, particularly if you need to create animations that show how things change over time. At IBM\\u2019s <a href=\"http://manyeyes.alphaworks.ibm.com/manyeyes/\">Many Eyes</a>, many of the visualizations are full-fledged interactive\\r\\n    applications.</p>,\n",
              " <p>Nathan Yau\\u2019s <a href=\"http://flowingdata.com/\">FlowingData</a> blog is a great place to look for creative visualizations. One of my favorites is this animation of the <a href=\"http://flowingdata.com/2010/04/07/watching-the-growth-of-walmart-now-with-100-more-sams-club/\">growth of Walmart</a>    over time. And this is one place where \\u201cart\\u201d comes in: not just the aesthetics of the visualization itself, but how you understand it. Does it look like the spread of cancer throughout a body? Or the spread of a flu virus through a population?\\r\\n    Making data tell its story isn\\u2019t just a matter of presenting results; it involves making connections, then going back to other data sources to verify them. Does a successful retail chain spread like an epidemic, and if so, does that give us\\r\\n    new insights into how economies work? That\\u2019s not a question we could even have asked a few years ago. There was insufficient computing power, the data was all locked up in proprietary sources, and the tools for working with the data were insufficient.\\r\\n    It\\u2019s the kind of question we now ask routinely.</p>,\n",
              " <p>Data science requires skills ranging from traditional computer science to mathematics to art. Describing the data science group he put together at Facebook (possibly the first data science group at a consumer-oriented web property), Jeff Hammerbacher\\r\\n    said:</p>,\n",
              " <p>\\u2026 on any given day, a team member could author a multistage processing pipeline in Python, design a hypothesis test, perform a regression analysis over data samples with R, design and implement an algorithm for some data-intensive product or\\r\\n        service in Hadoop, or communicate the results of our analyses to other members of the organization <sup><a href=\"#footnote-3\">3</a></sup></p>,\n",
              " <p>Where do you find the people this versatile? According to DJ Patil, chief scientist at <a href=\"http://www.linkedin.com/\">LinkedIn</a> (<a href=\"http://twitter.com/dpatil\">@dpatil</a>), the best data scientists tend to be \\u201chard scientists,\\u201d\\r\\n    particularly physicists, rather than computer science majors. Physicists have a strong mathematical background, computing skills, and come from a discipline in which survival depends on getting the most from the data. They have to think about the\\r\\n    big picture, the big problem. When you\\u2019ve just spent a lot of grant money generating data, you can\\u2019t just throw the data out if it isn\\u2019t as clean as you\\u2019d like. You have to make it tell its story. You need some creativity\\r\\n    for when the story the data is telling isn\\u2019t what you think it\\u2019s telling.</p>,\n",
              " <p>Scientists also know how to break large problems up into smaller problems. Patil described the process of creating the group recommendation feature at LinkedIn. It would have been easy to turn this into a high-ceremony development project that would take\\r\\n    thousands of hours of developer time, plus thousands of hours of computing time to do massive correlations across LinkedIn\\u2019s membership. But the process worked quite differently: it started out with a relatively small, simple program that looked\\r\\n    at members\\u2019 profiles and made recommendations accordingly. Asking things like, did you go to Cornell? Then you might like to join the Cornell Alumni group. It then branched out incrementally. In addition to looking at profiles, LinkedIn\\u2019s\\r\\n    data scientists started looking at events that members attended. Then at books members had in their libraries. The result was a valuable data product that analyzed a huge database \\u2014 but it was never conceived as such. It started small, and\\r\\n    added value iteratively. It was an agile, flexible process that built toward its goal incrementally, rather than tackling a huge mountain of data all at once.</p>,\n",
              " <p>This is the heart of what Patil calls \\u201cdata jiujitsu\\u201d \\u2014 using smaller auxiliary problems to solve a large, difficult problem that appears intractable. CDDB is a great example of data jiujitsu: identifying music by analyzing an audio\\r\\n    stream directly is a very difficult problem (though not unsolvable \\u2014 see <a href=\"http://www.midomi.com/\">midomi</a>, for example). But the CDDB staff used data creatively to solve a much more tractable problem that gave them the same result.\\r\\n    Computing a signature based on track lengths, and then looking up that signature in a database, is trivially simple.</p>,\n",
              " <p>\\n<!-- hiring trends sidebar -->\\n</p>,\n",
              " <p>Entrepreneurship is another piece of the puzzle. Patil\\u2019s first flippant answer to \\u201cwhat kind of person are you looking for when you hire a data scientist?\\u201d was \\u201csomeone you would start a company with.\\u201d That\\u2019s\\r\\n    an important insight: we\\u2019re entering the era of products that are built on data. We don\\u2019t yet know what those products are, but we do know that the winners will be the people, and the companies, that find those products. Hilary Mason\\r\\n    came to the same conclusion. Her job as scientist at bit.ly is really to investigate the data that bit.ly is generating, and find out how to build interesting products from it. No one in the nascent data industry is trying to build the 2012 Nissan\\r\\n    Stanza or Office 2015; they\\u2019re all trying to find new products. In addition to being physicists, mathematicians, programmers, and artists, they\\u2019re entrepreneurs.</p>,\n",
              " <p>Data scientists combine entrepreneurship with patience, the willingness to build data products incrementally, the ability to explore, and the ability to iterate over a solution. They are inherently interdiscplinary. They can tackle all aspects of a problem,\\r\\n    from initial data collection and data conditioning to drawing conclusions. They can think outside the box to come up with new ways to view the problem, or to work with very broadly defined problems: \\u201chere\\u2019s a lot of data, what can you\\r\\n    make from it?\\u201d</p>,\n",
              " <p>The future belongs to the companies who figure out how to collect and use data successfully. Google, Amazon, Facebook, and LinkedIn have all tapped into their datastreams and made that the core of their success. They were the vanguard, but newer companies\\r\\n    like bit.ly are following their path. Whether it\\u2019s mining your personal biology, building maps from the shared experience of millions of travellers, or studying the URLs that people pass to others, the next generation of successful businesses\\r\\n    will be built around data. <a href=\"http://www.mckinseyquarterly.com/Hal_Varian_on_how_the_Web_challenges_managers_2286\">The part of Hal Varian\\u2019s quote that nobody remembers says it all</a>:</p>,\n",
              " <p><strong>The ability to take data \\u2014 to be able to understand it, to process it, to extract value from it, to visualize it, to communicate it \\u2014 that\\u2019s going to be a hugely important skill in the next decades.</strong></p>,\n",
              " <p>Data is indeed the new Intel Inside.</p>,\n",
              " <p><sup>1</sup> The NASA article denies this, but also says that in 1984, they decided that the low values (whch went back to the 70s) were \\u201creal.\\u201d Whether humans or software decided to ignore anomalous data, it appears that data was ignored.</p>,\n",
              " <p><sup>2 </sup> \\u201cInformation Platforms as Dataspaces,\\u201d by Jeff Hammerbacher (in <em><a>Beautiful Data</a></em>)</p>,\n",
              " <p><sup>3 </sup> \\u201cInformation Platforms as Dataspaces,\\u201d by Jeff Hammerbacher (in <em><a>Beautiful Data</a></em>)</p>]"
            ]
          },
          "metadata": {
            "tags": []
          },
          "execution_count": 32
        }
      ]
    },
    {
      "metadata": {
        "id": "Yk1Ljh6PeXbF",
        "colab_type": "code",
        "colab": {}
      },
      "cell_type": "code",
      "source": [
        "documents = [\n",
        "    [\"Hadoop\", \"Big Data\", \"HBase\", \"Java\", \"Spark\", \"Storm\", \"Cassandra\"],\n",
        "    [\"NoSQL\", \"MongoDB\", \"Cassandra\", \"HBase\", \"Postgres\"],\n",
        "    [\"Python\", \"scikit-learn\", \"scipy\", \"numpy\", \"statsmodels\", \"pandas\"],\n",
        "    [\"R\", \"Python\", \"statistics\", \"regression\", \"probability\"],\n",
        "    [\"machine learning\", \"regression\", \"decision trees\", \"libsvm\"],\n",
        "    [\"Python\", \"R\", \"Java\", \"C++\", \"Haskell\", \"programming languages\"],\n",
        "    [\"statistics\", \"probability\", \"mathematics\", \"theory\"],\n",
        "    [\"machine learning\", \"scikit-learn\", \"Mahout\", \"neural networks\"],\n",
        "    [\"neural networks\", \"deep learning\", \"Big Data\", \"artificial intelligence\"],\n",
        "    [\"Hadoop\", \"Java\", \"MapReduce\", \"Big Data\"],\n",
        "    [\"statistics\", \"R\", \"statsmodels\"],\n",
        "    [\"C++\", \"deep learning\", \"artificial intelligence\", \"probability\"],\n",
        "    [\"pandas\", \"R\", \"Python\"],\n",
        "    [\"databases\", \"HBase\", \"Postgres\", \"MySQL\", \"MongoDB\"],\n",
        "    [\"libsvm\", \"regression\", \"support vector machines\"]\n",
        "]\n",
        "\n",
        "K = 4\n",
        "\n",
        "document_topic_counts = [Counter()\n",
        "                         for _ in documents]\n",
        "\n",
        "topic_word_counts = [Counter() for _ in range(K)]\n",
        "\n",
        "topic_counts = [0 for _ in range(K)]\n",
        "\n",
        "document_lengths = map(len, documents)\n",
        "\n",
        "distinct_words = set(word for document in documents for word in document)\n",
        "W = len(distinct_words)\n",
        "\n",
        "D = len(documents)"
      ],
      "execution_count": 0,
      "outputs": []
    },
    {
      "metadata": {
        "id": "lyFMIeYed8XJ",
        "colab_type": "code",
        "colab": {
          "base_uri": "https://localhost:8080/",
          "height": 34
        },
        "outputId": "13e9905e-b5d1-4f11-e859-a8dcde4f3228"
      },
      "cell_type": "code",
      "source": [
        "topic_word_counts"
      ],
      "execution_count": 7,
      "outputs": [
        {
          "output_type": "execute_result",
          "data": {
            "text/plain": [
              "[Counter(), Counter(), Counter(), Counter()]"
            ]
          },
          "metadata": {
            "tags": []
          },
          "execution_count": 7
        }
      ]
    },
    {
      "metadata": {
        "id": "VKcNcf4td3Pt",
        "colab_type": "code",
        "colab": {
          "base_uri": "https://localhost:8080/",
          "height": 629
        },
        "outputId": "69d13dc2-4b0a-425a-9c64-775396eb4740"
      },
      "cell_type": "code",
      "source": [
        "set([word for document in documents for word in document])"
      ],
      "execution_count": 15,
      "outputs": [
        {
          "output_type": "execute_result",
          "data": {
            "text/plain": [
              "{'Big Data',\n",
              " 'C++',\n",
              " 'Cassandra',\n",
              " 'HBase',\n",
              " 'Hadoop',\n",
              " 'Haskell',\n",
              " 'Java',\n",
              " 'Mahout',\n",
              " 'MapReduce',\n",
              " 'MongoDB',\n",
              " 'MySQL',\n",
              " 'NoSQL',\n",
              " 'Postgres',\n",
              " 'Python',\n",
              " 'R',\n",
              " 'Spark',\n",
              " 'Storm',\n",
              " 'artificial intelligence',\n",
              " 'databases',\n",
              " 'decision trees',\n",
              " 'deep learning',\n",
              " 'libsvm',\n",
              " 'machine learning',\n",
              " 'mathematics',\n",
              " 'neural networks',\n",
              " 'numpy',\n",
              " 'pandas',\n",
              " 'probability',\n",
              " 'programming languages',\n",
              " 'regression',\n",
              " 'scikit-learn',\n",
              " 'scipy',\n",
              " 'statistics',\n",
              " 'statsmodels',\n",
              " 'support vector machines',\n",
              " 'theory'}"
            ]
          },
          "metadata": {
            "tags": []
          },
          "execution_count": 15
        }
      ]
    }
  ]
}